{
 "cells": [
  {
   "cell_type": "code",
   "execution_count": 1,
   "metadata": {},
   "outputs": [],
   "source": [
    "import itertools\n",
    "import gzip\n",
    "\n",
    "import pandas\n",
    "import rdkit.Chem\n",
    "import rdkit.Chem.AllChem\n",
    "import rdkit.DataStructs"
   ]
  },
  {
   "cell_type": "code",
   "execution_count": 3,
   "metadata": {},
   "outputs": [
    {
     "name": "stderr",
     "output_type": "stream",
     "text": [
      "[15:00:48] Warning: conflicting stereochemistry at atom 7 ignored. by rule 1a.\n",
      "[15:00:48] Warning: conflicting stereochemistry at atom 7 ignored. by rule 1a.\n",
      "[15:00:48] ERROR: SGroup SAP line too short: 'M  SAP   1  1  13' on line 240658\n",
      "[15:00:48] ERROR: moving to the beginning of the next molecule\n",
      "[15:00:48] Warning: conflicting stereochemistry at atom 0 ignored. by rule 1a.\n",
      "[15:00:48] Warning: conflicting stereochemistry at atom 0 ignored. by rule 1a.\n",
      "[15:00:49] Can't kekulize mol.  Unkekulized atoms: 1 2 3 5 6 7 8 9 10\n",
      "[15:00:49] ERROR: Could not sanitize molecule ending on line 339099\n",
      "[15:00:49] ERROR: Can't kekulize mol.  Unkekulized atoms: 1 2 3 5 6 7 8 9 10\n",
      "[15:00:49] Explicit valence for atom # 35 O, 3, is greater than permitted\n",
      "[15:00:49] ERROR: Could not sanitize molecule ending on line 345154\n",
      "[15:00:49] ERROR: Explicit valence for atom # 35 O, 3, is greater than permitted\n",
      "[15:00:49] Explicit valence for atom # 17 O, 3, is greater than permitted\n",
      "[15:00:49] ERROR: Could not sanitize molecule ending on line 346061\n",
      "[15:00:49] ERROR: Explicit valence for atom # 17 O, 3, is greater than permitted\n",
      "[15:00:49] Can't kekulize mol.  Unkekulized atoms: 57 58 59 60 61 62 63 64 65\n",
      "[15:00:49] ERROR: Could not sanitize molecule ending on line 349475\n",
      "[15:00:49] ERROR: Can't kekulize mol.  Unkekulized atoms: 57 58 59 60 61 62 63 64 65\n",
      "[15:00:49] Explicit valence for atom # 47 Mg, 4, is greater than permitted\n",
      "[15:00:49] ERROR: Could not sanitize molecule ending on line 359862\n",
      "[15:00:49] ERROR: Explicit valence for atom # 47 Mg, 4, is greater than permitted\n",
      "[15:00:49] Can't kekulize mol.  Unkekulized atoms: 0 1 2 6 7 8 9 10 11 12 13 14 15 16 17\n",
      "[15:00:49] ERROR: Could not sanitize molecule ending on line 367933\n",
      "[15:00:49] ERROR: Can't kekulize mol.  Unkekulized atoms: 0 1 2 6 7 8 9 10 11 12 13 14 15 16 17\n",
      "[15:00:49] Explicit valence for atom # 13 Cl, 5, is greater than permitted\n",
      "[15:00:49] ERROR: Could not sanitize molecule ending on line 370162\n",
      "[15:00:49] ERROR: Explicit valence for atom # 13 Cl, 5, is greater than permitted\n",
      "[15:00:49] Can't kekulize mol.  Unkekulized atoms: 3 4 5 6 7 8 10 11 12\n",
      "[15:00:49] ERROR: Could not sanitize molecule ending on line 379867\n",
      "[15:00:49] ERROR: Can't kekulize mol.  Unkekulized atoms: 3 4 5 6 7 8 10 11 12\n",
      "[15:00:49] Can't kekulize mol.  Unkekulized atoms: 0 1 2 4 5 6 7 8 9 10\n",
      "[15:00:49] ERROR: Could not sanitize molecule ending on line 380923\n",
      "[15:00:49] ERROR: Can't kekulize mol.  Unkekulized atoms: 0 1 2 4 5 6 7 8 9 10\n",
      "[15:00:49] Can't kekulize mol.  Unkekulized atoms: 2 3 4 5 6 7 8 9 10\n",
      "[15:00:49] ERROR: Could not sanitize molecule ending on line 389682\n",
      "[15:00:49] ERROR: Can't kekulize mol.  Unkekulized atoms: 2 3 4 5 6 7 8 9 10\n",
      "[15:00:49] Can't kekulize mol.  Unkekulized atoms: 13 14 15 16 22\n",
      "[15:00:49] ERROR: Could not sanitize molecule ending on line 390890\n",
      "[15:00:49] ERROR: Can't kekulize mol.  Unkekulized atoms: 13 14 15 16 22\n",
      "[15:00:49] Explicit valence for atom # 46 Mg, 4, is greater than permitted\n",
      "[15:00:49] ERROR: Could not sanitize molecule ending on line 399128\n",
      "[15:00:49] ERROR: Explicit valence for atom # 46 Mg, 4, is greater than permitted\n",
      "[15:00:49] Explicit valence for atom # 27 N, 4, is greater than permitted\n",
      "[15:00:49] ERROR: Could not sanitize molecule ending on line 404607\n",
      "[15:00:49] ERROR: Explicit valence for atom # 27 N, 4, is greater than permitted\n",
      "[15:00:49] Explicit valence for atom # 16 N, 4, is greater than permitted\n",
      "[15:00:49] ERROR: Could not sanitize molecule ending on line 405129\n",
      "[15:00:49] ERROR: Explicit valence for atom # 16 N, 4, is greater than permitted\n",
      "[15:00:49] Can't kekulize mol.  Unkekulized atoms: 3 4 5 6 54\n",
      "[15:00:49] ERROR: Could not sanitize molecule ending on line 411316\n",
      "[15:00:49] ERROR: Can't kekulize mol.  Unkekulized atoms: 3 4 5 6 54\n",
      "[15:00:49] Can't kekulize mol.  Unkekulized atoms: 3 4 5 6 7\n",
      "[15:00:49] ERROR: Could not sanitize molecule ending on line 412422\n",
      "[15:00:49] ERROR: Can't kekulize mol.  Unkekulized atoms: 3 4 5 6 7\n",
      "[15:00:49] Can't kekulize mol.  Unkekulized atoms: 2 3 4 5 11\n",
      "[15:00:49] ERROR: Could not sanitize molecule ending on line 418233\n",
      "[15:00:49] ERROR: Can't kekulize mol.  Unkekulized atoms: 2 3 4 5 11\n",
      "[15:00:49] Can't kekulize mol.  Unkekulized atoms: 1 2 3 4 5 6 7 8 9\n",
      "[15:00:49] ERROR: Could not sanitize molecule ending on line 419507\n",
      "[15:00:49] ERROR: Can't kekulize mol.  Unkekulized atoms: 1 2 3 4 5 6 7 8 9\n",
      "[15:00:49] Can't kekulize mol.  Unkekulized atoms: 3 4 5 6 7\n",
      "[15:00:49] ERROR: Could not sanitize molecule ending on line 433194\n",
      "[15:00:49] ERROR: Can't kekulize mol.  Unkekulized atoms: 3 4 5 6 7\n",
      "[15:00:49] Can't kekulize mol.  Unkekulized atoms: 5 6 7 8 9 10 11 12 13\n",
      "[15:00:49] ERROR: Could not sanitize molecule ending on line 442846\n",
      "[15:00:49] ERROR: Can't kekulize mol.  Unkekulized atoms: 5 6 7 8 9 10 11 12 13\n",
      "[15:00:49] Can't kekulize mol.  Unkekulized atoms: 3 4 5 6 7\n",
      "[15:00:49] ERROR: Could not sanitize molecule ending on line 456065\n",
      "[15:00:49] ERROR: Can't kekulize mol.  Unkekulized atoms: 3 4 5 6 7\n",
      "[15:00:49] Can't kekulize mol.  Unkekulized atoms: 25 26 27 28 29 30 31 32 33\n",
      "[15:00:49] ERROR: Could not sanitize molecule ending on line 458296\n",
      "[15:00:49] ERROR: Can't kekulize mol.  Unkekulized atoms: 25 26 27 28 29 30 31 32 33\n",
      "[15:00:49] Can't kekulize mol.  Unkekulized atoms: 1 2 3 4 5 6 7 8 9\n",
      "[15:00:49] ERROR: Could not sanitize molecule ending on line 463367\n",
      "[15:00:49] ERROR: Can't kekulize mol.  Unkekulized atoms: 1 2 3 4 5 6 7 8 9\n",
      "[15:00:49] Explicit valence for atom # 56 O, 3, is greater than permitted\n",
      "[15:00:49] ERROR: Could not sanitize molecule ending on line 482092\n",
      "[15:00:49] ERROR: Explicit valence for atom # 56 O, 3, is greater than permitted\n",
      "[15:00:49] Can't kekulize mol.  Unkekulized atoms: 9 10 11 12 18\n",
      "[15:00:49] ERROR: Could not sanitize molecule ending on line 491585\n",
      "[15:00:49] ERROR: Can't kekulize mol.  Unkekulized atoms: 9 10 11 12 18\n",
      "[15:00:49] Explicit valence for atom # 46 Mg, 4, is greater than permitted\n",
      "[15:00:49] ERROR: Could not sanitize molecule ending on line 501755\n",
      "[15:00:49] ERROR: Explicit valence for atom # 46 Mg, 4, is greater than permitted\n",
      "[15:00:49] Can't kekulize mol.  Unkekulized atoms: 1 2 3 12 13 14 15 16 17\n",
      "[15:00:49] ERROR: Could not sanitize molecule ending on line 506523\n",
      "[15:00:49] ERROR: Can't kekulize mol.  Unkekulized atoms: 1 2 3 12 13 14 15 16 17\n",
      "[15:00:49] Can't kekulize mol.  Unkekulized atoms: 44 45 46 47 49\n",
      "[15:00:49] ERROR: Could not sanitize molecule ending on line 508687\n",
      "[15:00:49] ERROR: Can't kekulize mol.  Unkekulized atoms: 44 45 46 47 49\n",
      "[15:00:49] Explicit valence for atom # 8 N, 5, is greater than permitted\n",
      "[15:00:49] ERROR: Could not sanitize molecule ending on line 509808\n",
      "[15:00:49] ERROR: Explicit valence for atom # 8 N, 5, is greater than permitted\n",
      "[15:00:49] Can't kekulize mol.  Unkekulized atoms: 54 55 56 57 58 59 60 61 62\n",
      "[15:00:49] ERROR: Could not sanitize molecule ending on line 511347\n",
      "[15:00:49] ERROR: Can't kekulize mol.  Unkekulized atoms: 54 55 56 57 58 59 60 61 62\n",
      "[15:00:49] Can't kekulize mol.  Unkekulized atoms: 0 1 2 3 4 5 6 7 8\n",
      "[15:00:49] ERROR: Could not sanitize molecule ending on line 515449\n",
      "[15:00:49] ERROR: Can't kekulize mol.  Unkekulized atoms: 0 1 2 3 4 5 6 7 8\n",
      "[15:00:49] Can't kekulize mol.  Unkekulized atoms: 3 4 5 6 8 9 10\n",
      "[15:00:49] ERROR: Could not sanitize molecule ending on line 525878\n",
      "[15:00:49] ERROR: Can't kekulize mol.  Unkekulized atoms: 3 4 5 6 8 9 10\n",
      "[15:00:49] Can't kekulize mol.  Unkekulized atoms: 3 4 5 6 9\n",
      "[15:00:49] ERROR: Could not sanitize molecule ending on line 530402\n",
      "[15:00:49] ERROR: Can't kekulize mol.  Unkekulized atoms: 3 4 5 6 9\n",
      "[15:00:49] Can't kekulize mol.  Unkekulized atoms: 16 17 18 19 20\n",
      "[15:00:49] ERROR: Could not sanitize molecule ending on line 548612\n",
      "[15:00:49] ERROR: Can't kekulize mol.  Unkekulized atoms: 16 17 18 19 20\n",
      "[15:00:49] Can't kekulize mol.  Unkekulized atoms: 7 8 9 10 17\n",
      "[15:00:49] ERROR: Could not sanitize molecule ending on line 551219\n",
      "[15:00:49] ERROR: Can't kekulize mol.  Unkekulized atoms: 7 8 9 10 17\n",
      "[15:00:49] Can't kekulize mol.  Unkekulized atoms: 3 4 5 6 7 8 9 10 11\n",
      "[15:00:49] ERROR: Could not sanitize molecule ending on line 551562\n",
      "[15:00:49] ERROR: Can't kekulize mol.  Unkekulized atoms: 3 4 5 6 7 8 9 10 11\n",
      "[15:00:49] Explicit valence for atom # 53 N, 4, is greater than permitted\n",
      "[15:00:49] ERROR: Could not sanitize molecule ending on line 554586\n",
      "[15:00:49] ERROR: Explicit valence for atom # 53 N, 4, is greater than permitted\n",
      "[15:00:49] Can't kekulize mol.  Unkekulized atoms: 2 3 4 5 12\n",
      "[15:00:49] ERROR: Could not sanitize molecule ending on line 562618\n",
      "[15:00:49] ERROR: Can't kekulize mol.  Unkekulized atoms: 2 3 4 5 12\n",
      "[15:00:49] Explicit valence for atom # 2 O, 3, is greater than permitted\n",
      "[15:00:49] ERROR: Could not sanitize molecule ending on line 580867\n",
      "[15:00:49] ERROR: Explicit valence for atom # 2 O, 3, is greater than permitted\n",
      "[15:00:49] Can't kekulize mol.  Unkekulized atoms: 1 2 3 4 5 6 7 8 9\n",
      "[15:00:49] ERROR: Could not sanitize molecule ending on line 584930\n",
      "[15:00:49] ERROR: Can't kekulize mol.  Unkekulized atoms: 1 2 3 4 5 6 7 8 9\n",
      "[15:00:49] Can't kekulize mol.  Unkekulized atoms: 0 1 2 4 5 6 7 8 9 10\n",
      "[15:00:49] ERROR: Could not sanitize molecule ending on line 589572\n",
      "[15:00:49] ERROR: Can't kekulize mol.  Unkekulized atoms: 0 1 2 4 5 6 7 8 9 10\n",
      "[15:00:49] Can't kekulize mol.  Unkekulized atoms: 1 2 3 4 5 6 7 8 9\n",
      "[15:00:49] ERROR: Could not sanitize molecule ending on line 591361\n",
      "[15:00:49] ERROR: Can't kekulize mol.  Unkekulized atoms: 1 2 3 4 5 6 7 8 9\n",
      "[15:00:49] Can't kekulize mol.  Unkekulized atoms: 3 4 5 6 7 8 10\n",
      "[15:00:49] ERROR: Could not sanitize molecule ending on line 592382\n",
      "[15:00:49] ERROR: Can't kekulize mol.  Unkekulized atoms: 3 4 5 6 7 8 10\n",
      "[15:00:49] Can't kekulize mol.  Unkekulized atoms: 1 2 3 5 6 7 8 9 10\n",
      "[15:00:49] ERROR: Could not sanitize molecule ending on line 593152\n",
      "[15:00:49] ERROR: Can't kekulize mol.  Unkekulized atoms: 1 2 3 5 6 7 8 9 10\n",
      "[15:00:49] Explicit valence for atom # 2 O, 3, is greater than permitted\n",
      "[15:00:49] ERROR: Could not sanitize molecule ending on line 600277\n",
      "[15:00:49] ERROR: Explicit valence for atom # 2 O, 3, is greater than permitted\n",
      "[15:00:49] Explicit valence for atom # 6 B, 4, is greater than permitted\n",
      "[15:00:49] ERROR: Could not sanitize molecule ending on line 622180\n",
      "[15:00:49] ERROR: Explicit valence for atom # 6 B, 4, is greater than permitted\n"
     ]
    },
    {
     "name": "stderr",
     "output_type": "stream",
     "text": [
      "[15:00:49] Can't kekulize mol.  Unkekulized atoms: 2 3 17 19 20\n",
      "[15:00:49] ERROR: Could not sanitize molecule ending on line 637879\n",
      "[15:00:49] ERROR: Can't kekulize mol.  Unkekulized atoms: 2 3 17 19 20\n",
      "[15:00:49] Can't kekulize mol.  Unkekulized atoms: 0 1 2 4 5 6 7 8 9 10\n",
      "[15:00:49] ERROR: Could not sanitize molecule ending on line 641495\n",
      "[15:00:49] ERROR: Can't kekulize mol.  Unkekulized atoms: 0 1 2 4 5 6 7 8 9 10\n",
      "[15:00:49] Can't kekulize mol.  Unkekulized atoms: 10 11 12 13 19\n",
      "[15:00:49] ERROR: Could not sanitize molecule ending on line 643058\n",
      "[15:00:49] ERROR: Can't kekulize mol.  Unkekulized atoms: 10 11 12 13 19\n",
      "[15:00:49] Explicit valence for atom # 27 N, 4, is greater than permitted\n",
      "[15:00:49] ERROR: Could not sanitize molecule ending on line 647103\n",
      "[15:00:49] ERROR: Explicit valence for atom # 27 N, 4, is greater than permitted\n",
      "[15:00:49] Can't kekulize mol.  Unkekulized atoms: 9 10 11 12 13 14 15 16 17\n",
      "[15:00:49] ERROR: Could not sanitize molecule ending on line 648261\n",
      "[15:00:49] ERROR: Can't kekulize mol.  Unkekulized atoms: 9 10 11 12 13 14 15 16 17\n",
      "[15:00:49] Can't kekulize mol.  Unkekulized atoms: 23 24 25 26 27\n",
      "[15:00:49] ERROR: Could not sanitize molecule ending on line 654329\n",
      "[15:00:49] ERROR: Can't kekulize mol.  Unkekulized atoms: 23 24 25 26 27\n",
      "[15:00:49] Can't kekulize mol.  Unkekulized atoms: 5 6 7 8 9\n",
      "[15:00:49] ERROR: Could not sanitize molecule ending on line 671968\n",
      "[15:00:49] ERROR: Can't kekulize mol.  Unkekulized atoms: 5 6 7 8 9\n",
      "[15:00:49] Explicit valence for atom # 0 O, 3, is greater than permitted\n",
      "[15:00:49] ERROR: Could not sanitize molecule ending on line 675420\n",
      "[15:00:49] ERROR: Explicit valence for atom # 0 O, 3, is greater than permitted\n",
      "[15:00:49] Explicit valence for atom # 0 Br, 2, is greater than permitted\n",
      "[15:00:49] ERROR: Could not sanitize molecule ending on line 678492\n",
      "[15:00:49] ERROR: Explicit valence for atom # 0 Br, 2, is greater than permitted\n",
      "[15:00:50] Explicit valence for atom # 1 N, 4, is greater than permitted\n",
      "[15:00:50] ERROR: Could not sanitize molecule ending on line 681169\n",
      "[15:00:50] ERROR: Explicit valence for atom # 1 N, 4, is greater than permitted\n",
      "[15:00:50] Explicit valence for atom # 6 Be, 4, is greater than permitted\n",
      "[15:00:50] ERROR: Could not sanitize molecule ending on line 683721\n",
      "[15:00:50] ERROR: Explicit valence for atom # 6 Be, 4, is greater than permitted\n",
      "[15:00:50] Can't kekulize mol.  Unkekulized atoms: 4 5 6 7 8 9 10 11 12\n",
      "[15:00:50] ERROR: Could not sanitize molecule ending on line 684197\n",
      "[15:00:50] ERROR: Can't kekulize mol.  Unkekulized atoms: 4 5 6 7 8 9 10 11 12\n",
      "[15:00:50] Can't kekulize mol.  Unkekulized atoms: 5 6 7 8 9 10 11 12 13\n",
      "[15:00:50] ERROR: Could not sanitize molecule ending on line 695085\n",
      "[15:00:50] ERROR: Can't kekulize mol.  Unkekulized atoms: 5 6 7 8 9 10 11 12 13\n",
      "[15:00:50] Can't kekulize mol.  Unkekulized atoms: 1 2 3 5 6 7 8 9 10\n",
      "[15:00:50] ERROR: Could not sanitize molecule ending on line 701869\n",
      "[15:00:50] ERROR: Can't kekulize mol.  Unkekulized atoms: 1 2 3 5 6 7 8 9 10\n",
      "[15:00:50] Can't kekulize mol.  Unkekulized atoms: 5 6 7 8 9 10 11 12 13\n",
      "[15:00:50] ERROR: Could not sanitize molecule ending on line 706625\n",
      "[15:00:50] ERROR: Can't kekulize mol.  Unkekulized atoms: 5 6 7 8 9 10 11 12 13\n",
      "[15:00:50] Explicit valence for atom # 19 N, 4, is greater than permitted\n",
      "[15:00:50] ERROR: Could not sanitize molecule ending on line 715340\n",
      "[15:00:50] ERROR: Explicit valence for atom # 19 N, 4, is greater than permitted\n",
      "[15:00:50] Explicit valence for atom # 0 O, 3, is greater than permitted\n",
      "[15:00:50] ERROR: Could not sanitize molecule ending on line 718990\n",
      "[15:00:50] ERROR: Explicit valence for atom # 0 O, 3, is greater than permitted\n",
      "[15:00:50] Explicit valence for atom # 17 Mg, 4, is greater than permitted\n",
      "[15:00:50] ERROR: Could not sanitize molecule ending on line 721112\n",
      "[15:00:50] ERROR: Explicit valence for atom # 17 Mg, 4, is greater than permitted\n",
      "[15:00:50] Explicit valence for atom # 4 F, 2, is greater than permitted\n",
      "[15:00:50] ERROR: Could not sanitize molecule ending on line 723448\n",
      "[15:00:50] ERROR: Explicit valence for atom # 4 F, 2, is greater than permitted\n",
      "[15:00:50] Can't kekulize mol.  Unkekulized atoms: 0 1 2 4 5 6 7 8 9 10\n",
      "[15:00:50] ERROR: Could not sanitize molecule ending on line 737893\n",
      "[15:00:50] ERROR: Can't kekulize mol.  Unkekulized atoms: 0 1 2 4 5 6 7 8 9 10\n",
      "[15:00:50] Explicit valence for atom # 0 Be, 3, is greater than permitted\n",
      "[15:00:50] ERROR: Could not sanitize molecule ending on line 996947\n",
      "[15:00:50] ERROR: Explicit valence for atom # 0 Be, 3, is greater than permitted\n"
     ]
    },
    {
     "data": {
      "text/plain": [
       "6745"
      ]
     },
     "execution_count": 3,
     "metadata": {},
     "output_type": "execute_result"
    }
   ],
   "source": [
    "# Read SDF File from Drugbank\n",
    "supplier = rdkit.Chem.SDMolSupplier('../data/all.sdf')\n",
    "molecules = [mol for mol in supplier if mol is not None]\n",
    "len(molecules)"
   ]
  },
  {
   "cell_type": "code",
   "execution_count": 10,
   "metadata": {},
   "outputs": [],
   "source": [
    "import pickle\n",
    "\n",
    "with open('../data/all_drugs_did.pickle', 'rb') as f:\n",
    "    all_drugs_did = pickle.load(f)\n"
   ]
  },
  {
   "cell_type": "code",
   "execution_count": 12,
   "metadata": {},
   "outputs": [],
   "source": [
    "# Calculate fingerprints\n",
    "fingerprints = dict()\n",
    "for mol in molecules:\n",
    "    drugbank_id = mol.GetProp('DATABASE_ID')\n",
    "    if drugbank_id in all_drugs_did: \n",
    "        fingerprint = rdkit.Chem.AllChem.GetMorganFingerprint(mol, 2)\n",
    "        fingerprints[drugbank_id] = fingerprint"
   ]
  },
  {
   "cell_type": "code",
   "execution_count": 15,
   "metadata": {},
   "outputs": [
    {
     "data": {
      "text/plain": [
       "355"
      ]
     },
     "execution_count": 15,
     "metadata": {},
     "output_type": "execute_result"
    }
   ],
   "source": [
    "len(all_drugs_did)"
   ]
  },
  {
   "cell_type": "code",
   "execution_count": 16,
   "metadata": {},
   "outputs": [
    {
     "data": {
      "text/plain": [
       "354"
      ]
     },
     "execution_count": 16,
     "metadata": {},
     "output_type": "execute_result"
    }
   ],
   "source": [
    "len(fingerprints)"
   ]
  },
  {
   "cell_type": "code",
   "execution_count": 17,
   "metadata": {},
   "outputs": [],
   "source": [
    "# Calculate pairwise compound similarities\n",
    "similarity_rows = list()\n",
    "for (id0, fp0), (id1, fp1) in itertools.combinations(fingerprints.items(), 2):\n",
    "    similarity = rdkit.DataStructs.DiceSimilarity(fp0, fp1)\n",
    "    similarity = round(similarity, 4)\n",
    "    similarity_rows.append([id0, id1, similarity])"
   ]
  },
  {
   "cell_type": "code",
   "execution_count": 18,
   "metadata": {},
   "outputs": [
    {
     "data": {
      "text/plain": [
       "62481"
      ]
     },
     "execution_count": 18,
     "metadata": {},
     "output_type": "execute_result"
    }
   ],
   "source": [
    "len(similarity_rows)"
   ]
  },
  {
   "cell_type": "code",
   "execution_count": 24,
   "metadata": {},
   "outputs": [
    {
     "data": {
      "text/html": [
       "<div>\n",
       "<style scoped>\n",
       "    .dataframe tbody tr th:only-of-type {\n",
       "        vertical-align: middle;\n",
       "    }\n",
       "\n",
       "    .dataframe tbody tr th {\n",
       "        vertical-align: top;\n",
       "    }\n",
       "\n",
       "    .dataframe thead th {\n",
       "        text-align: right;\n",
       "    }\n",
       "</style>\n",
       "<table border=\"1\" class=\"dataframe\">\n",
       "  <thead>\n",
       "    <tr style=\"text-align: right;\">\n",
       "      <th></th>\n",
       "      <th>compound0</th>\n",
       "      <th>compound1</th>\n",
       "      <th>similarity</th>\n",
       "    </tr>\n",
       "  </thead>\n",
       "  <tbody>\n",
       "    <tr>\n",
       "      <th>0</th>\n",
       "      <td>DB00153</td>\n",
       "      <td>DB00181</td>\n",
       "      <td>0.0678</td>\n",
       "    </tr>\n",
       "    <tr>\n",
       "      <th>1</th>\n",
       "      <td>DB00153</td>\n",
       "      <td>DB00184</td>\n",
       "      <td>0.1391</td>\n",
       "    </tr>\n",
       "    <tr>\n",
       "      <th>2</th>\n",
       "      <td>DB00153</td>\n",
       "      <td>DB00186</td>\n",
       "      <td>0.0863</td>\n",
       "    </tr>\n",
       "    <tr>\n",
       "      <th>3</th>\n",
       "      <td>DB00153</td>\n",
       "      <td>DB00188</td>\n",
       "      <td>0.1266</td>\n",
       "    </tr>\n",
       "    <tr>\n",
       "      <th>4</th>\n",
       "      <td>DB00153</td>\n",
       "      <td>DB00191</td>\n",
       "      <td>0.0545</td>\n",
       "    </tr>\n",
       "  </tbody>\n",
       "</table>\n",
       "</div>"
      ],
      "text/plain": [
       "  compound0 compound1  similarity\n",
       "0   DB00153   DB00181      0.0678\n",
       "1   DB00153   DB00184      0.1391\n",
       "2   DB00153   DB00186      0.0863\n",
       "3   DB00153   DB00188      0.1266\n",
       "4   DB00153   DB00191      0.0545"
      ]
     },
     "execution_count": 24,
     "metadata": {},
     "output_type": "execute_result"
    }
   ],
   "source": [
    "similarity_df = pandas.DataFrame(similarity_rows, columns=['compound0', 'compound1', 'similarity'])\n",
    "# with open('../data/similarity.csv', 'w') as write_file:\n",
    "#     similarity_df.to_csv(write_file, sep='\\t', index=False)\n",
    "similarity_df.to_csv('../data/similarity.csv')\n",
    "similarity_df.head()"
   ]
  },
  {
   "cell_type": "code",
   "execution_count": 9,
   "metadata": {},
   "outputs": [
    {
     "data": {
      "text/plain": [
       "(22744140, 3)"
      ]
     },
     "execution_count": 9,
     "metadata": {},
     "output_type": "execute_result"
    }
   ],
   "source": [
    "similarity_df.shape"
   ]
  },
  {
   "cell_type": "code",
   "execution_count": 22,
   "metadata": {},
   "outputs": [
    {
     "data": {
      "image/png": "[encoded data removed]",
      "text/plain": [
       "<Figure size 640x480 with 1 Axes>"
      ]
     },
     "metadata": {},
     "output_type": "display_data"
    }
   ],
   "source": [
    "# histogram of similarities\n",
    "import matplotlib.pyplot as plt\n",
    "%matplotlib inline\n",
    "\n",
    "plt.hist(similarity_df.similarity, 100);"
   ]
  },
  {
   "cell_type": "code",
   "execution_count": null,
   "metadata": {
    "collapsed": true
   },
   "outputs": [],
   "source": []
  }
 ],
 "metadata": {
  "kernelspec": {
   "display_name": "Python 3 (ipykernel)",
   "language": "python",
   "name": "python3"
  },
  "language_info": {
   "codemirror_mode": {
    "name": "ipython",
    "version": 3
   },
   "file_extension": ".py",
   "mimetype": "text/x-python",
   "name": "python",
   "nbconvert_exporter": "python",
   "pygments_lexer": "ipython3",
   "version": "3.9.0"
  }
 },
 "nbformat": 4,
 "nbformat_minor": 1
}
